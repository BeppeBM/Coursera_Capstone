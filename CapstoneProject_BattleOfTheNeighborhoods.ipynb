{
    "nbformat_minor": 1, 
    "cells": [
        {
            "source": "# Capstone Project - The Battle of Neighborhoods", 
            "cell_type": "markdown", 
            "metadata": {
                "collapsed": true
            }
        }, 
        {
            "source": "## Introduction ", 
            "cell_type": "markdown", 
            "metadata": {}
        }, 
        {
            "source": "London house prices have soared more than in any other part of the UK since the 2007-08 financial crisis.\n\nIn fact, it is now so expensive buying an house in London that many first-time buyers have given up and are sticking to renting. \n\nThe business problem this project aims to solve is to identify which London postcode district provides the best __value-for-money__ for a two-bedrooms home.", 
            "cell_type": "markdown", 
            "metadata": {}
        }, 
        {
            "source": "## Data", 
            "cell_type": "markdown", 
            "metadata": {}
        }, 
        {
            "source": "The following sources have been analysed in order to identify and collect the necessary information and data:\n1. [Private rental market in London \u2013 July 2018 to June 2019](https://www.gov.uk/government/publications/private-rental-market-in-london-july-2018-to-june-2019)\nUK Government official statistics on the private rental market in London covering July 2018 to June 2019 by region, borough and postcode district.\n2. [Foursquare API](https://developer.foursquare.com)\nFoursquare database to collect information on venue categories, tips, location data, venue ratings.\n3. [Complete list of London postal districts with their longitude and latitude and OS coordinates](https://www.doogal.co.uk/london_postcodes.php)\n", 
            "cell_type": "markdown", 
            "metadata": {}
        }
    ], 
    "metadata": {
        "kernelspec": {
            "display_name": "Python 3.6", 
            "name": "python3", 
            "language": "python"
        }, 
        "language_info": {
            "mimetype": "text/x-python", 
            "nbconvert_exporter": "python", 
            "version": "3.6.8", 
            "name": "python", 
            "file_extension": ".py", 
            "pygments_lexer": "ipython3", 
            "codemirror_mode": {
                "version": 3, 
                "name": "ipython"
            }
        }
    }, 
    "nbformat": 4
}